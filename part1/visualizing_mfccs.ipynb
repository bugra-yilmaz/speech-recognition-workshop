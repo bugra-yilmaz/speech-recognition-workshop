{
 "cells": [
  {
   "cell_type": "markdown",
   "id": "c2b40b70-6b13-402b-ae54-ecb96306375c",
   "metadata": {},
   "source": [
    "Imports"
   ]
  },
  {
   "cell_type": "code",
   "execution_count": null,
   "id": "d8a213a5-125f-47a0-8e86-227ab02111db",
   "metadata": {
    "jupyter": {
     "source_hidden": true
    },
    "tags": []
   },
   "outputs": [],
   "source": [
    "import IPython.display as ipd\n",
    "import librosa\n",
    "import librosa.display\n",
    "import matplotlib.pyplot as plt\n",
    "import numpy as np"
   ]
  },
  {
   "cell_type": "code",
   "execution_count": null,
   "id": "4690dce7-89d4-4013-8289-01bbe5fc16a5",
   "metadata": {},
   "outputs": [],
   "source": [
    "# Extract MFCCs from a .wav file using the librosa package\n",
    "\n",
    "def get_mfccs(audio_file):\n",
    "    audio, sample_rate = librosa.load(audio_file)\n",
    "    mfccs = librosa.feature.mfcc(y=audio, n_mfcc=5, sr=sample_rate)\n",
    "    return mfccs"
   ]
  },
  {
   "cell_type": "markdown",
   "id": "5ca0d84f-1289-422c-8ef4-b01b953c06d1",
   "metadata": {
    "tags": []
   },
   "source": [
    "### Audio files"
   ]
  },
  {
   "cell_type": "code",
   "execution_count": null,
   "id": "d856873c-1d04-4333-9677-46c8027a8be8",
   "metadata": {
    "jupyter": {
     "source_hidden": true
    },
    "tags": []
   },
   "outputs": [],
   "source": [
    "import os\n",
    "print(sorted(os.listdir(\"audios\")))"
   ]
  },
  {
   "cell_type": "markdown",
   "id": "ac9ab0b9-ac89-4b65-9da8-57788d76320c",
   "metadata": {
    "tags": []
   },
   "source": [
    "### Visualize and compare MFCC features\n",
    "\n",
    "There are **6 audio signals** in this example.\n",
    "\n",
    "These audio signals correspond to **3 words, each word pronounced two times** by different speakers.\n",
    "\n",
    "Try to find the **matching audio signals** (audio signals from same utterance) looking at the MFCC feature plots."
   ]
  },
  {
   "cell_type": "code",
   "execution_count": null,
   "id": "19d75b08-de5f-4b8b-9245-7f2cfa9862f3",
   "metadata": {
    "jupyter": {
     "source_hidden": true
    },
    "tags": []
   },
   "outputs": [],
   "source": [
    "fig, axes = plt.subplots(3, 2, figsize=(15, 10))\n",
    "\n",
    "plt.axes(axes[0, 0])\n",
    "plt.title(\"example1.wav\")\n",
    "mfccs1 = get_mfccs(\"example1.wav\")\n",
    "librosa.display.specshow(mfccs1)\n",
    "\n",
    "plt.axes(axes[0, 1])\n",
    "plt.title(\"example2.wav\")\n",
    "mfccs2 = get_mfccs(\"example2.wav\")\n",
    "librosa.display.specshow(mfccs2)\n",
    "\n",
    "plt.axes(axes[1, 0])\n",
    "plt.title(\"example3.wav\")\n",
    "mfccs3 = get_mfccs(\"example3.wav\")\n",
    "librosa.display.specshow(mfccs3)\n",
    "\n",
    "plt.axes(axes[1, 1])\n",
    "plt.title(\"example4.wav\")\n",
    "mfccs4 = get_mfccs(\"example4.wav\")\n",
    "librosa.display.specshow(mfccs4)\n",
    "\n",
    "plt.axes(axes[2, 0])\n",
    "plt.title(\"example5.wav\")\n",
    "mfccs5 = get_mfccs(\"example5.wav\")\n",
    "librosa.display.specshow(mfccs5)\n",
    "\n",
    "plt.axes(axes[2, 1])\n",
    "plt.title(\"example6.wav\")\n",
    "mfccs6 = get_mfccs(\"example6.wav\")\n",
    "librosa.display.specshow(mfccs6)\n",
    "\n",
    "plt.show()"
   ]
  },
  {
   "cell_type": "markdown",
   "id": "393a0711-05c6-4c64-8d5a-64a068cdf620",
   "metadata": {},
   "source": [
    "### Play audios\n",
    "\n",
    "Check if your guesses were correct by playing the actual audios "
   ]
  },
  {
   "cell_type": "code",
   "execution_count": null,
   "id": "0895b1c8-0af6-495b-8d6b-0fcf01685d3a",
   "metadata": {
    "tags": []
   },
   "outputs": [],
   "source": [
    "ipd.Audio(\"audios/example1.wav\")"
   ]
  },
  {
   "cell_type": "code",
   "execution_count": null,
   "id": "cfcb4d5e-0d18-4e09-9837-605801c6ec6e",
   "metadata": {
    "tags": []
   },
   "outputs": [],
   "source": [
    "ipd.Audio(\"audios/example2.wav\")"
   ]
  }
 ],
 "metadata": {
  "kernelspec": {
   "display_name": "Python 3 (ipykernel)",
   "language": "python",
   "name": "python3"
  },
  "language_info": {
   "codemirror_mode": {
    "name": "ipython",
    "version": 3
   },
   "file_extension": ".py",
   "mimetype": "text/x-python",
   "name": "python",
   "nbconvert_exporter": "python",
   "pygments_lexer": "ipython3",
   "version": "3.8.10"
  }
 },
 "nbformat": 4,
 "nbformat_minor": 5
}
